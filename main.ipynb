{
 "metadata": {
  "language_info": {
   "codemirror_mode": {
    "name": "ipython",
    "version": 3
   },
   "file_extension": ".py",
   "mimetype": "text/x-python",
   "name": "python",
   "nbconvert_exporter": "python",
   "pygments_lexer": "ipython3",
   "version": "3.9.1-final"
  },
  "orig_nbformat": 2,
  "kernelspec": {
   "name": "python3",
   "display_name": "Python 3",
   "language": "python"
  }
 },
 "nbformat": 4,
 "nbformat_minor": 2,
 "cells": [
  {
   "cell_type": "code",
   "execution_count": null,
   "metadata": {},
   "outputs": [],
   "source": [
    "from source.pendulum import Pendulum\n",
    "from source.dampened_pendulum import DampenedPendulum\n",
    "\n",
    "import numpy\n",
    "import matplotlib.pyplot as plt"
   ]
  },
  {
   "source": [
    "# Single pendulum"
   ],
   "cell_type": "markdown",
   "metadata": {}
  },
  {
   "cell_type": "code",
   "execution_count": null,
   "metadata": {},
   "outputs": [],
   "source": [
    "# Simulate conserved pendulum\n",
    "p1 = Pendulum(5, 10)\n",
    "p1.solve([numpy.pi / 4.0, 0.5 * numpy.pi], 10, 0.01)\n",
    "\n",
    "\n",
    "# Plot velocity over time\n",
    "plt.figure()\n",
    "plt.plot(p1.t, p1.theta)\n",
    "plt.grid(True, axis=\"y\")\n",
    "plt.xlabel(\"Time (Seconds)\")\n",
    "plt.ylabel(\"Velocity (m/s)\")\n",
    "plt.title(\"Kinetics plot\")\n",
    "plt.show()\n",
    "\n",
    "\n",
    "# Plot conserved energy\n",
    "plt.figure()\n",
    "plt.grid(True, axis=\"y\")\n",
    "plt.plot(p1.t, p1.kinetic)\n",
    "plt.plot(p1.t, p1.potential)\n",
    "plt.plot(p1.t, p1.potential + p1.kinetic)\n",
    "plt.xlabel(\"Time (Seconds)\")\n",
    "plt.ylabel(\"Energy (Joule)\")\n",
    "plt.legend([\"Kinetic energy\", \"Potential energy\", \"Total energy\"])\n",
    "plt.title(\"Energy plot\")\n",
    "plt.show()"
   ]
  },
  {
   "source": [
    "# Dampened single pendulum"
   ],
   "cell_type": "markdown",
   "metadata": {}
  },
  {
   "cell_type": "code",
   "execution_count": null,
   "metadata": {},
   "outputs": [],
   "source": [
    "# Simulate unconserved p1\n",
    "p2 = DampenedPendulum(5, 25, R=0.25)\n",
    "p2.solve([numpy.pi / 4.0, 0.5 * numpy.pi], 10, 0.01)\n",
    "\n",
    "# Plot unconserved energy\n",
    "plt.figure()\n",
    "plt.grid(True, axis=\"y\")\n",
    "plt.plot(p2.t, p2.kinetic)\n",
    "plt.plot(p2.t, p2.potential)\n",
    "plt.plot(p2.t, p2.potential + p2.kinetic)\n",
    "plt.xlabel(\"Time (Seconds)\")\n",
    "plt.ylabel(\"Energy (Joule)\")\n",
    "plt.legend([\"Kinetic energy\", \"Potential energy\", \"Total energy\"])\n",
    "plt.title(\"Damped-Energy plot\")\n",
    "plt.show()"
   ]
  },
  {
   "cell_type": "code",
   "execution_count": null,
   "metadata": {},
   "outputs": [],
   "source": []
  }
 ]
}