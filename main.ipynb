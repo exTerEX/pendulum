{
 "metadata": {
  "language_info": {
   "codemirror_mode": {
    "name": "ipython",
    "version": 3
   },
   "file_extension": ".py",
   "mimetype": "text/x-python",
   "name": "python",
   "nbconvert_exporter": "python",
   "pygments_lexer": "ipython3",
   "version": "3.9.1-final"
  },
  "orig_nbformat": 2,
  "kernelspec": {
   "name": "python3",
   "display_name": "Python 3",
   "language": "python"
  }
 },
 "nbformat": 4,
 "nbformat_minor": 2,
 "cells": [
  {
   "cell_type": "code",
   "execution_count": null,
   "metadata": {},
   "outputs": [],
   "source": [
    "%matplotlib inline"
   ]
  },
  {
   "cell_type": "code",
   "execution_count": null,
   "metadata": {},
   "outputs": [],
   "source": [
    "from source.pendulum import Pendulum\n",
    "from source.dampened_pendulum import DampenedPendulum\n",
    "\n",
    "from IPython.display import HTML\n",
    "\n",
    "import numpy\n",
    "import matplotlib.pyplot as plt"
   ]
  },
  {
   "source": [
    "# Single pendulum"
   ],
   "cell_type": "markdown",
   "metadata": {}
  },
  {
   "cell_type": "code",
   "execution_count": null,
   "metadata": {},
   "outputs": [],
   "source": [
    "pendulum1 = Pendulum(5, 10)\n",
    "pendulum1.solve([3 * numpy.pi / 4.0, numpy.pi / 3.0], 30, 1/30)"
   ]
  },
  {
   "source": [
    "## Plot velocity over time"
   ],
   "cell_type": "markdown",
   "metadata": {}
  },
  {
   "cell_type": "code",
   "execution_count": null,
   "metadata": {},
   "outputs": [],
   "source": [
    "plt.figure()\n",
    "plt.plot(pendulum1.t, pendulum1.theta)\n",
    "plt.grid(True, axis=\"y\")\n",
    "plt.xlabel(\"Time (Seconds)\")\n",
    "plt.ylabel(\"Velocity (m/s)\")\n",
    "plt.title(\"Kinetics plot\")\n",
    "plt.show()"
   ]
  },
  {
   "source": [
    "## Plot conserved energy"
   ],
   "cell_type": "markdown",
   "metadata": {}
  },
  {
   "cell_type": "code",
   "execution_count": null,
   "metadata": {},
   "outputs": [],
   "source": [
    "plt.figure()\n",
    "plt.grid(True, axis=\"y\")\n",
    "plt.plot(pendulum1.t, pendulum1.kinetic)\n",
    "plt.plot(pendulum1.t, pendulum1.potential)\n",
    "plt.plot(pendulum1.t, pendulum1.potential + pendulum1.kinetic)\n",
    "plt.xlabel(\"Time (Seconds)\")\n",
    "plt.ylabel(\"Energy (Joule)\")\n",
    "plt.legend([\"Kinetic energy\", \"Potential energy\", \"Total energy\"])\n",
    "plt.title(\"Energy plot\")\n",
    "plt.show()"
   ]
  },
  {
   "source": [
    "## Animation"
   ],
   "cell_type": "markdown",
   "metadata": {}
  },
  {
   "cell_type": "code",
   "execution_count": null,
   "metadata": {},
   "outputs": [],
   "source": [
    "pendulum1.animate()\n",
    "HTML(pendulum1.get_animation.to_jshtml())"
   ]
  },
  {
   "source": [
    "# Dampened single pendulum"
   ],
   "cell_type": "markdown",
   "metadata": {}
  },
  {
   "cell_type": "code",
   "execution_count": null,
   "metadata": {},
   "outputs": [],
   "source": [
    "pendulum2 = DampenedPendulum(5, 10, R=0.25)\n",
    "pendulum2.solve([3 * numpy.pi / 4.0, numpy.pi / 3.0], 30, 1/30)"
   ]
  },
  {
   "source": [
    "## Plot unconserved energy"
   ],
   "cell_type": "markdown",
   "metadata": {}
  },
  {
   "cell_type": "code",
   "execution_count": null,
   "metadata": {},
   "outputs": [],
   "source": [
    "plt.figure()\n",
    "plt.grid(True, axis=\"y\")\n",
    "plt.plot(pendulum2.t, pendulum2.kinetic)\n",
    "plt.plot(pendulum2.t, pendulum2.potential)\n",
    "plt.plot(pendulum2.t, pendulum2.potential + pendulum2.kinetic)\n",
    "plt.xlabel(\"Time (Seconds)\")\n",
    "plt.ylabel(\"Energy (Joule)\")\n",
    "plt.legend([\"Kinetic energy\", \"Potential energy\", \"Total energy\"])\n",
    "plt.title(\"Damped-Energy plot\")\n",
    "plt.show()"
   ]
  },
  {
   "source": [
    "## Animation"
   ],
   "cell_type": "markdown",
   "metadata": {}
  },
  {
   "cell_type": "code",
   "execution_count": null,
   "metadata": {},
   "outputs": [],
   "source": [
    "pendulum2.animate()\n",
    "HTML(pendulum2.get_animation.to_jshtml())"
   ]
  },
  {
   "cell_type": "code",
   "execution_count": null,
   "metadata": {},
   "outputs": [],
   "source": []
  }
 ]
}